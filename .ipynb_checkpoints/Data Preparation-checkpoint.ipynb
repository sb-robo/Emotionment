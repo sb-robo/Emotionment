{
 "cells": [
  {
   "cell_type": "markdown",
   "metadata": {},
   "source": [
    "## Data Preparation\n",
    "\n",
    "- Prepare a well-structured dataset for Data generator"
   ]
  },
  {
   "cell_type": "markdown",
   "metadata": {},
   "source": [
    "### Import Libraries"
   ]
  },
  {
   "cell_type": "code",
   "execution_count": 1,
   "metadata": {},
   "outputs": [],
   "source": [
    "import os\n",
    "import glob\n",
    "import numpy as np\n",
    "import pandas as pd "
   ]
  },
  {
   "cell_type": "code",
   "execution_count": 2,
   "metadata": {},
   "outputs": [],
   "source": [
    "import warnings\n",
    "warnings.filterwarnings('ignore')"
   ]
  },
  {
   "cell_type": "markdown",
   "metadata": {},
   "source": [
    "### Prepare Dataset\n",
    "#### Import Dataset"
   ]
  },
  {
   "cell_type": "code",
   "execution_count": 3,
   "metadata": {},
   "outputs": [
    {
     "data": {
      "text/html": [
       "<div>\n",
       "<style scoped>\n",
       "    .dataframe tbody tr th:only-of-type {\n",
       "        vertical-align: middle;\n",
       "    }\n",
       "\n",
       "    .dataframe tbody tr th {\n",
       "        vertical-align: top;\n",
       "    }\n",
       "\n",
       "    .dataframe thead th {\n",
       "        text-align: right;\n",
       "    }\n",
       "</style>\n",
       "<table border=\"1\" class=\"dataframe\">\n",
       "  <thead>\n",
       "    <tr style=\"text-align: right;\">\n",
       "      <th></th>\n",
       "      <th>user.id</th>\n",
       "      <th>image</th>\n",
       "      <th>emotion</th>\n",
       "    </tr>\n",
       "  </thead>\n",
       "  <tbody>\n",
       "    <tr>\n",
       "      <th>0</th>\n",
       "      <td>dwdii</td>\n",
       "      <td>John_Snow_0004.jpg</td>\n",
       "      <td>happiness</td>\n",
       "    </tr>\n",
       "    <tr>\n",
       "      <th>1</th>\n",
       "      <td>dwdii</td>\n",
       "      <td>Robert_Blake_0005.jpg</td>\n",
       "      <td>happiness</td>\n",
       "    </tr>\n",
       "    <tr>\n",
       "      <th>2</th>\n",
       "      <td>dwdii</td>\n",
       "      <td>Roy_Moore_0005.jpg</td>\n",
       "      <td>neutral</td>\n",
       "    </tr>\n",
       "    <tr>\n",
       "      <th>3</th>\n",
       "      <td>302</td>\n",
       "      <td>George_Robertson_0013.jpg</td>\n",
       "      <td>neutral</td>\n",
       "    </tr>\n",
       "    <tr>\n",
       "      <th>4</th>\n",
       "      <td>302</td>\n",
       "      <td>Ali_Naimi_0005.jpg</td>\n",
       "      <td>neutral</td>\n",
       "    </tr>\n",
       "  </tbody>\n",
       "</table>\n",
       "</div>"
      ],
      "text/plain": [
       "  user.id                      image    emotion\n",
       "0   dwdii         John_Snow_0004.jpg  happiness\n",
       "1   dwdii      Robert_Blake_0005.jpg  happiness\n",
       "2   dwdii         Roy_Moore_0005.jpg    neutral\n",
       "3     302  George_Robertson_0013.jpg    neutral\n",
       "4     302         Ali_Naimi_0005.jpg    neutral"
      ]
     },
     "execution_count": 3,
     "metadata": {},
     "output_type": "execute_result"
    }
   ],
   "source": [
    "df = pd.read_csv('../Datasets/Facial_Expressions/legend.csv')\n",
    "df = df.sample(frac=1).reset_index(drop=True)\n",
    "df.head()"
   ]
  },
  {
   "cell_type": "code",
   "execution_count": 4,
   "metadata": {},
   "outputs": [
    {
     "name": "stdout",
     "output_type": "stream",
     "text": [
      "<class 'pandas.core.frame.DataFrame'>\n",
      "RangeIndex: 13690 entries, 0 to 13689\n",
      "Data columns (total 3 columns):\n",
      " #   Column   Non-Null Count  Dtype \n",
      "---  ------   --------------  ----- \n",
      " 0   user.id  13690 non-null  object\n",
      " 1   image    13690 non-null  object\n",
      " 2   emotion  13690 non-null  object\n",
      "dtypes: object(3)\n",
      "memory usage: 321.0+ KB\n"
     ]
    }
   ],
   "source": [
    "df.info()"
   ]
  },
  {
   "cell_type": "code",
   "execution_count": 5,
   "metadata": {},
   "outputs": [],
   "source": [
    "def lower(s):\n",
    "    return s.lower().strip()"
   ]
  },
  {
   "cell_type": "code",
   "execution_count": 6,
   "metadata": {},
   "outputs": [],
   "source": [
    "df['emotion'] = df['emotion'].apply(lambda x: lower(x))"
   ]
  },
  {
   "cell_type": "markdown",
   "metadata": {},
   "source": [
    "#### Emotion Distribution"
   ]
  },
  {
   "cell_type": "code",
   "execution_count": 7,
   "metadata": {},
   "outputs": [],
   "source": [
    "import matplotlib.pyplot as plt\n",
    "import seaborn as sns\n",
    "\n",
    "plt.style.use('seaborn')"
   ]
  },
  {
   "cell_type": "code",
   "execution_count": 8,
   "metadata": {},
   "outputs": [
    {
     "name": "stdout",
     "output_type": "stream",
     "text": [
      "{'anger': 252, 'contempt': 9, 'disgust': 208, 'fear': 21, 'happiness': 5696, 'neutral': 6868, 'sadness': 268, 'surprise': 368}\n"
     ]
    }
   ],
   "source": [
    "value = dict(df['emotion'].value_counts())\n",
    "value = {key : value[key] for key in sorted(value.keys())} \n",
    "print(value)"
   ]
  },
  {
   "cell_type": "code",
   "execution_count": 9,
   "metadata": {},
   "outputs": [
    {
     "data": {
      "image/png": "[encoded data removed]",
      "text/plain": [
       "<Figure size 720x360 with 1 Axes>"
      ]
     },
     "metadata": {},
     "output_type": "display_data"
    }
   ],
   "source": [
    "plt.rcParams['figure.figsize'] = (10,5)\n",
    "ax = sns.countplot(df['emotion'], palette='bone', order=value.keys())\n",
    "\n",
    "for i,val in enumerate(value.values()):\n",
    "    ax.text(i,val+100,val)\n",
    "\n",
    "plt.show()"
   ]
  },
  {
   "cell_type": "markdown",
   "metadata": {},
   "source": [
    "- We can Observe that there is ahuge imbalance in dataset.\n",
    "- We will fix it later by data augmentation."
   ]
  },
  {
   "cell_type": "markdown",
   "metadata": {},
   "source": [
    "#### Structerized Data"
   ]
  },
  {
   "cell_type": "code",
   "execution_count": 10,
   "metadata": {},
   "outputs": [],
   "source": [
    "import shutil"
   ]
  },
  {
   "cell_type": "code",
   "execution_count": 11,
   "metadata": {},
   "outputs": [
    {
     "name": "stdout",
     "output_type": "stream",
     "text": [
      "train - Directory Exists\n"
     ]
    }
   ],
   "source": [
    "path = '../Datasets/Facial_Expressions/'\n",
    "train = os.path.join(path,'train')\n",
    "\n",
    "if not os.path.exists(train):\n",
    "    os.mkdir(train)\n",
    "    print('train - Directory Created')\n",
    "else:\n",
    "    #if train already exits then we will delete contents of the directory\n",
    "    for sub_folder in os.listdir(train):\n",
    "        files = glob.glob(train + '/' + sub_folder + '/*')\n",
    "        for file in files:\n",
    "            os.remove(file)\n",
    "                \n",
    "    print('train - Directory Exists')"
   ]
  },
  {
   "cell_type": "markdown",
   "metadata": {},
   "source": [
    "- Due to limited resources, we will take only max 500 images for each class.\n",
    "- Later we will use `Image Augmentation` techniques to extend images upto 1000 for each class.\n",
    "----\n",
    "- If You have GPU support, then you can skip this step"
   ]
  },
  {
   "cell_type": "code",
   "execution_count": 12,
   "metadata": {},
   "outputs": [
    {
     "name": "stdout",
     "output_type": "stream",
     "text": [
      "Copying Images: 1000/13690\n",
      "Copying Images: 2000/13690\n",
      "Copying Images: 3000/13690\n",
      "Copying Images: 4000/13690\n",
      "Copying Images: 5000/13690\n",
      "Copying Images: 6000/13690\n",
      "Copying Images: 7000/13690\n",
      "Copying Images: 8000/13690\n",
      "Copying Images: 9000/13690\n",
      "Copying Images: 10000/13690\n",
      "Copying Images: 11000/13690\n",
      "Copying Images: 12000/13690\n",
      "Copying Images: 13000/13690\n",
      "Completed !!\n"
     ]
    }
   ],
   "source": [
    "# Copying images\n",
    "for idx, row in df.iterrows():\n",
    "    img = row['image']       #picture name\n",
    "    emo = row['emotion']     #picture label or emition\n",
    "    \n",
    "    folder = os.path.join(train,emo)\n",
    "    if not os.path.exists(folder):\n",
    "        os.mkdir(folder)\n",
    "        src = os.path.join(path,'images',img)\n",
    "        shutil.copy(src,folder)\n",
    "    else:\n",
    "        files = glob.glob(folder+'/*')\n",
    "        \n",
    "        if len(files) <= 500:\n",
    "            src = os.path.join(path,'images',img)\n",
    "            shutil.copy(src,folder)\n",
    "        \n",
    "    if (idx+1)%1000 == 0:\n",
    "        print(f'Copying Images: {idx+1}/{len(df)}')\n",
    "        \n",
    "print('Completed !!')"
   ]
  },
  {
   "cell_type": "code",
   "execution_count": null,
   "metadata": {},
   "outputs": [],
   "source": []
  }
 ],
 "metadata": {
  "kernelspec": {
   "display_name": "Python 3",
   "language": "python",
   "name": "python3"
  },
  "language_info": {
   "codemirror_mode": {
    "name": "ipython",
    "version": 3
   },
   "file_extension": ".py",
   "mimetype": "text/x-python",
   "name": "python",
   "nbconvert_exporter": "python",
   "pygments_lexer": "ipython3",
   "version": "3.8.5"
  },
  "toc": {
   "base_numbering": 1,
   "nav_menu": {},
   "number_sections": true,
   "sideBar": true,
   "skip_h1_title": false,
   "title_cell": "Table of Contents",
   "title_sidebar": "Contents",
   "toc_cell": false,
   "toc_position": {},
   "toc_section_display": true,
   "toc_window_display": false
  }
 },
 "nbformat": 4,
 "nbformat_minor": 4
}
