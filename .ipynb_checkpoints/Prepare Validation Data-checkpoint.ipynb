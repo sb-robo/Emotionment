{
 "cells": [
  {
   "cell_type": "markdown",
   "metadata": {},
   "source": [
    "- Now We need to create a dataset for Validation Set.\n",
    "    - We will collect 20% of data from each categories of emotion for validation set."
   ]
  },
  {
   "cell_type": "markdown",
   "metadata": {},
   "source": [
    "### Import Libraries"
   ]
  },
  {
   "cell_type": "code",
   "execution_count": 1,
   "metadata": {},
   "outputs": [],
   "source": [
    "import os\n",
    "import numpy as np\n",
    "import shutil\n",
    "import glob\n",
    "import random"
   ]
  },
  {
   "cell_type": "code",
   "execution_count": 2,
   "metadata": {},
   "outputs": [
    {
     "name": "stdout",
     "output_type": "stream",
     "text": [
      "Directory exists\n"
     ]
    }
   ],
   "source": [
    "path = '../Datasets/Facial Expressions/'\n",
    "\n",
    "if not os.path.exists(path+'val/'):\n",
    "    os.mkdir(path+'val')\n",
    "    print('Directory Created')\n",
    "else:\n",
    "    print('Directory exists')"
   ]
  },
  {
   "cell_type": "code",
   "execution_count": 3,
   "metadata": {},
   "outputs": [
    {
     "name": "stdout",
     "output_type": "stream",
     "text": [
      "anger :: 114\n",
      "contempt :: 113\n",
      "disgust :: 113\n",
      "fear :: 113\n",
      "happiness :: 113\n",
      "neutral :: 114\n",
      "sadness :: 114\n",
      "surprise :: 113\n"
     ]
    }
   ],
   "source": [
    "for folder in os.listdir(path+'train'):\n",
    "    images = os.listdir(path+'train/'+folder)\n",
    "    random.shuffle(images)\n",
    "    idx = len(images) - int(len(images)*0.2)\n",
    "    val_images = images[idx:]\n",
    "    \n",
    "    # Create directory if  not exists\n",
    "    folder_path = path+'val/'+folder\n",
    "    if not os.path.exists(folder_path):\n",
    "        os.mkdir(folder_path)\n",
    "    else:\n",
    "        files = glob.glob(folder_path+'/*')\n",
    "        for f in files:\n",
    "            os.remove(f)\n",
    "            \n",
    "    # Move images to val folder\n",
    "    for image in val_images:\n",
    "        image_path = path + 'train/' + folder + '/'+image\n",
    "        dest_path = path + 'val/' + folder\n",
    "        shutil.move(image_path, dest_path)\n",
    "        \n",
    "    print(f'{folder} :: {len(val_images)}')"
   ]
  },
  {
   "cell_type": "code",
   "execution_count": null,
   "metadata": {},
   "outputs": [],
   "source": []
  },
  {
   "cell_type": "code",
   "execution_count": null,
   "metadata": {},
   "outputs": [],
   "source": []
  }
 ],
 "metadata": {
  "kernelspec": {
   "display_name": "Python 3",
   "language": "python",
   "name": "python3"
  },
  "language_info": {
   "codemirror_mode": {
    "name": "ipython",
    "version": 3
   },
   "file_extension": ".py",
   "mimetype": "text/x-python",
   "name": "python",
   "nbconvert_exporter": "python",
   "pygments_lexer": "ipython3",
   "version": "3.8.5"
  },
  "toc": {
   "base_numbering": 1,
   "nav_menu": {},
   "number_sections": true,
   "sideBar": true,
   "skip_h1_title": false,
   "title_cell": "Table of Contents",
   "title_sidebar": "Contents",
   "toc_cell": false,
   "toc_position": {},
   "toc_section_display": true,
   "toc_window_display": false
  }
 },
 "nbformat": 4,
 "nbformat_minor": 4
}
