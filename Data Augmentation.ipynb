{
 "cells": [
  {
   "cell_type": "markdown",
   "metadata": {},
   "source": [
    "## Data Augmentation\n",
    "----\n",
    "> What is `Data Augmentation` ?\n",
    ">>Image data augmentation is a technique that can be used to artificially expand the size of a training dataset by creating modified versions of images in the dataset.\n",
    "\n",
    "> Why `Data Augmentation` is important in Deep learning?\n",
    ">> Deep Learning models are data-hungry models and took lots of data to Train. The augmentation techniques can create variations of the images that can improve the ability of the fit models to generalize what they have learned to new images.\n",
    "\n",
    "> Reason to use `Data Augmentation` :\n",
    ">> Ou dataset contains, total `13690` samples of images which sufficient for our training. But, previously we observed - Our dataset is not a balanaced dataset and feeding this images can cause `Skewed Model` towards: `Neutral` & `Happiness` emotion."
   ]
  },
  {
   "cell_type": "markdown",
   "metadata": {},
   "source": [
    "### Import Libraries"
   ]
  },
  {
   "cell_type": "code",
   "execution_count": 1,
   "metadata": {},
   "outputs": [],
   "source": [
    "import os\n",
    "import PIL\n",
    "import numpy as np\n",
    "from keras.preprocessing import image"
   ]
  },
  {
   "cell_type": "markdown",
   "metadata": {},
   "source": [
    "### Define Functions for Applying Transformations"
   ]
  },
  {
   "cell_type": "code",
   "execution_count": 6,
   "metadata": {},
   "outputs": [],
   "source": [
    "# function for image rotation\n",
    "def image_rotation(x, rotation_range, save_path):\n",
    "    datagen = image.ImageDataGenerator(rotation_range=rotation_range)\n",
    "    for batch in datagen.flow(x, batch_size=1, save_to_dir= save_path,\n",
    "                             save_prefix='aug', save_format='jpg'):\n",
    "        break # for breaking infinite loop\n",
    "\n",
    "# function for image flip i.e. horizontal flip or vertical flip\n",
    "def image_flip(x, h_flip, v_flip, save_path):\n",
    "    datagen = image.ImageDataGenerator(horizontal_flip=h_flip, vertical_flip=v_flip)\n",
    "    for batch in datagen.flow(x, batch_size=1, save_to_dir= save_path,\n",
    "                             save_prefix='aug', save_format='jpg'):\n",
    "        break # for breaking infinite loop\n",
    "        \n",
    "# function for image height & width shift\n",
    "def image_shift(x, width_shift, height_shift, save_path):\n",
    "    datagen = image.ImageDataGenerator(width_shift_range=width_shift, \n",
    "                                       height_shift_range=height_shift)\n",
    "    for batch in datagen.flow(x, batch_size=2, save_to_dir= save_path,\n",
    "                             save_prefix='aug', save_format='jpg'):\n",
    "        break # for breaking infinite loop\n",
    "        \n",
    "# function for image rescale\n",
    "def image_rescale(x, shear_range, zoom_range, h_flip, save_path):\n",
    "    datagen = image.ImageDataGenerator(shear_range=shear_range, \n",
    "                                       zoom_range=zoom_range,\n",
    "                                      horizontal_flip=h_flip)\n",
    "    for batch in datagen.flow(x, batch_size=3, save_to_dir=save_path,\n",
    "                             save_prefix='aug', save_format='jpg'):\n",
    "        break # for breaking infinite loop\n",
    "\n",
    "# function for image feature shift\n",
    "def image_featurewise(x, feature, save_path):\n",
    "    datagen = image.ImageDataGenerator(featurewise_center=feature)\n",
    "    for batch in datagen.flow(x, batch_size=1, save_to_dir=save_path,\n",
    "                             save_prefix='aug', save_format='jpg'):\n",
    "        break # for breaking infinite loop\n",
    "        \n",
    "# function for to apply samplewise transfroms\n",
    "def image_samplewise(x, sample, save_path):\n",
    "    datagen = image.ImageDataGenerator(samplewise_center=sample)\n",
    "    for batch in datagen.flow(x, batch_size=1, save_to_dir=save_path,\n",
    "                             save_prefix='aug', save_format='jpg'):\n",
    "        break # for breaking infinite loop\n",
    "        \n",
    "# function for applying ZCA whitening to image\n",
    "def image_featurewise(x, zca_white, save_path):\n",
    "    datagen = image.ImageDataGenerator(zca_whitening=zca_white)\n",
    "    for batch in datagen.flow(x, batch_size=1, save_to_dir=save_path,\n",
    "                             save_prefix='aug', save_format='jpg'):\n",
    "        break # for breaking infinite loop\n",
    "        \n",
    "# function for image channel shift\n",
    "def image_channel_shift(x, c_shift, save_path):\n",
    "    datagen = image.ImageDataGenerator(channel_shift_range=c_shift)\n",
    "    for batch in datagen.flow(x, batch_size=1, save_to_dir=save_path,\n",
    "                             save_prefix='aug', save_format='jpg'):\n",
    "        break # for breaking infinite loop"
   ]
  },
  {
   "cell_type": "code",
   "execution_count": 3,
   "metadata": {},
   "outputs": [],
   "source": [
    "img_path = '../Datasets/Facial Expressions/test/4a.jpg'"
   ]
  },
  {
   "cell_type": "code",
   "execution_count": 5,
   "metadata": {},
   "outputs": [],
   "source": [
    "img = image.load_img(img_path)\n",
    "img = image.img_to_array(img)\n",
    "img = img.reshape((1,)+img.shape)\n",
    "save_path = './Dataset/'\n",
    "rotation_range = 40\n",
    "image_rotation(img,rotation_range,save_path)"
   ]
  },
  {
   "cell_type": "code",
   "execution_count": null,
   "metadata": {},
   "outputs": [],
   "source": []
  }
 ],
 "metadata": {
  "kernelspec": {
   "display_name": "Python 3",
   "language": "python",
   "name": "python3"
  },
  "language_info": {
   "codemirror_mode": {
    "name": "ipython",
    "version": 3
   },
   "file_extension": ".py",
   "mimetype": "text/x-python",
   "name": "python",
   "nbconvert_exporter": "python",
   "pygments_lexer": "ipython3",
   "version": "3.8.5"
  },
  "toc": {
   "base_numbering": 1,
   "nav_menu": {},
   "number_sections": true,
   "sideBar": true,
   "skip_h1_title": false,
   "title_cell": "Table of Contents",
   "title_sidebar": "Contents",
   "toc_cell": false,
   "toc_position": {},
   "toc_section_display": true,
   "toc_window_display": false
  }
 },
 "nbformat": 4,
 "nbformat_minor": 4
}
