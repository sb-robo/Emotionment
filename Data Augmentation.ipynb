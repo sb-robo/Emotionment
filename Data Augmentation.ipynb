{
 "cells": [
  {
   "cell_type": "markdown",
   "metadata": {},
   "source": [
    "## Data Augmentation\n",
    "----\n",
    "> What is `Data Augmentation` ?\n",
    ">>Image data augmentation is a technique that can be used to artificially expand the size of a training dataset by creating modified versions of images in the dataset.\n",
    "\n",
    "> Why `Data Augmentation` is important in Deep learning?\n",
    ">> Deep Learning models are data-hungry models and took lots of data to Train. The augmentation techniques can create variations of the images that can improve the ability of the fit models to generalize what they have learned to new images.\n",
    "\n",
    "> Reason to use `Data Augmentation` :\n",
    ">> Ou dataset contains, total `13690` samples of images which sufficient for our training. But, previously we observed - Our dataset is not a balanaced dataset and feeding this images can cause `Skewed Model` towards: `Neutral` & `Happiness` emotion."
   ]
  },
  {
   "cell_type": "markdown",
   "metadata": {},
   "source": [
    "### Import Libraries"
   ]
  },
  {
   "cell_type": "code",
   "execution_count": 1,
   "metadata": {},
   "outputs": [],
   "source": [
    "import os\n",
    "import PIL\n",
    "import numpy as np\n",
    "from skimage import util, io\n",
    "from scipy import ndimage\n",
    "from keras.preprocessing import image"
   ]
  },
  {
   "cell_type": "code",
   "execution_count": 2,
   "metadata": {},
   "outputs": [],
   "source": [
    "import warnings\n",
    "warnings.filterwarnings('ignore')"
   ]
  },
  {
   "cell_type": "markdown",
   "metadata": {},
   "source": [
    "### Define Functions for Applying Transformations"
   ]
  },
  {
   "cell_type": "code",
   "execution_count": 3,
   "metadata": {},
   "outputs": [],
   "source": [
    "# function for image rotation\n",
    "def image_rotation(x, rotation_range, save_path):\n",
    "    datagen = image.ImageDataGenerator(rotation_range=rotation_range)\n",
    "    for batch in datagen.flow(x, batch_size=1, save_to_dir= save_path,\n",
    "                             save_prefix='aug', save_format='jpg'):\n",
    "        break # for breaking infinite loop\n",
    "\n",
    "# function for image flip i.e. horizontal flip or vertical flip\n",
    "def image_flip(x, h_flip, v_flip, save_path):\n",
    "    datagen = image.ImageDataGenerator(horizontal_flip=h_flip, vertical_flip=v_flip)\n",
    "    for batch in datagen.flow(x, batch_size=1, save_to_dir= save_path,\n",
    "                             save_prefix='aug', save_format='jpg'):\n",
    "        break # for breaking infinite loop\n",
    "        \n",
    "# function for image height & width shift\n",
    "def image_shift(x, width_shift, height_shift, save_path):\n",
    "    datagen = image.ImageDataGenerator(width_shift_range=width_shift, \n",
    "                                       height_shift_range=height_shift)\n",
    "    for batch in datagen.flow(x, batch_size=1, save_to_dir= save_path,\n",
    "                             save_prefix='aug', save_format='jpg'):\n",
    "        break # for breaking infinite loop\n",
    "        \n",
    "# function for image rescale\n",
    "def image_rescale(x, shear_range, zoom_range, h_flip, save_path):\n",
    "    datagen = image.ImageDataGenerator(shear_range=shear_range, \n",
    "                                       zoom_range=zoom_range,\n",
    "                                      horizontal_flip=h_flip)\n",
    "    for batch in datagen.flow(x, batch_size=1, save_to_dir=save_path,\n",
    "                             save_prefix='aug', save_format='jpg'):\n",
    "        break # for breaking infinite loop\n",
    "\n",
    "# function for image feature shift\n",
    "def image_featurewise(x, feature, std_norm, save_path):\n",
    "    datagen = image.ImageDataGenerator(featurewise_center=feature,featurewise_std_normalization=std_norm)\n",
    "    for batch in datagen.flow(x, batch_size=1, save_to_dir=save_path,\n",
    "                             save_prefix='aug', save_format='jpg'):\n",
    "        break # for breaking infinite loop\n",
    "        \n",
    "# function for to apply samplewise transfroms\n",
    "def image_samplewise(x, sample, std_norm, save_path):\n",
    "    datagen = image.ImageDataGenerator(samplewise_center=sample, samplewise_std_normalization=std_norm)\n",
    "    for batch in datagen.flow(x, batch_size=1, save_to_dir=save_path,\n",
    "                             save_prefix='aug', save_format='jpg'):\n",
    "        break # for breaking infinite loop\n",
    "        \n",
    "# function for applying ZCA whitening to image\n",
    "def image_zca_whitening(x, zca_white, save_path):\n",
    "    datagen = image.ImageDataGenerator(zca_whitening=zca_white)\n",
    "    for batch in datagen.flow(x, batch_size=1, save_to_dir=save_path,\n",
    "                             save_prefix='aug', save_format='jpg'):\n",
    "        break # for breaking infinite loop\n",
    "        \n",
    "# function for image channel shift\n",
    "def image_channel_shift(x, c_shift, save_path):\n",
    "    datagen = image.ImageDataGenerator(channel_shift_range=c_shift)\n",
    "    for batch in datagen.flow(x, batch_size=1, save_to_dir=save_path,\n",
    "                             save_prefix='aug', save_format='jpg'):\n",
    "        break # for breaking infinite loop\n",
    "        \n",
    "def image_blured(image, sig):\n",
    "    return ndimage.gaussian_filter(image, sigma=sig)"
   ]
  },
  {
   "cell_type": "markdown",
   "metadata": {},
   "source": [
    "### Apply Transformations to image"
   ]
  },
  {
   "cell_type": "code",
   "execution_count": 4,
   "metadata": {},
   "outputs": [
    {
     "data": {
      "text/plain": [
       "\"img = image.load_img(img_path)\\nimg = image.img_to_array(img)\\nimg = img.reshape((1,)+img.shape)\\nsave_path = './Dataset/'\\nrotation_range = 40\\nimage_rotation(img,rotation_range,save_path)\""
      ]
     },
     "execution_count": 4,
     "metadata": {},
     "output_type": "execute_result"
    }
   ],
   "source": [
    "'''img = image.load_img(img_path)\n",
    "img = image.img_to_array(img)\n",
    "img = img.reshape((1,)+img.shape)\n",
    "save_path = './Dataset/'\n",
    "rotation_range = 40\n",
    "image_rotation(img,rotation_range,save_path)'''"
   ]
  },
  {
   "cell_type": "code",
   "execution_count": 5,
   "metadata": {},
   "outputs": [],
   "source": [
    "def transform_image(image_path, target_folder):\n",
    "    # load image\n",
    "    image_id = image_path.split('/')[-1].split('.')[0]\n",
    "    img = image.load_img(image_path)\n",
    "    img_array = image.img_to_array(img)\n",
    "    img_array = img_array.reshape((1,) + img_array.shape)\n",
    "    \n",
    "    # save image into\n",
    "    save_path = target_folder\n",
    "    \n",
    "    # Apply all transforms\n",
    "    rotation_range=40\n",
    "    image_rotation(img_array, rotation_range, save_path)\n",
    "    \n",
    "    h_flip=True; v_flip=True\n",
    "    image_flip(img_array, h_flip, v_flip, save_path)\n",
    "\n",
    "    width_shift=0.2; height_shift=0.2\n",
    "    image_shift(img_array, width_shift, height_shift, save_path)\n",
    "    \n",
    "    shear_range=0.2; zoom_range=0.2; h_flip=True\n",
    "    image_rescale(img_array, shear_range, zoom_range, h_flip, save_path)\n",
    "\n",
    "    feature=True; std_norm=False  \n",
    "    image_featurewise(img_array, feature, std_norm, save_path)\n",
    "\n",
    "    sample=True; std_norm=False\n",
    "    image_samplewise(img_array, sample, std_norm, save_path)\n",
    "    \n",
    "    zca_white=True\n",
    "    image_zca_whitening(img_array, zca_white, save_path)\n",
    "    \n",
    "    c_shift=0.2\n",
    "    image_channel_shift(img_array, c_shift, save_path)\n",
    "    \n",
    "    sig=5\n",
    "    img_blr = image_blured(img, sig)\n",
    "    io.imsave(os.path.join(save_path,'aug_'+image_id+'_blured.jpg'),img_blr)"
   ]
  },
  {
   "cell_type": "code",
   "execution_count": 8,
   "metadata": {},
   "outputs": [
    {
     "data": {
      "text/plain": [
       "\"img_path = '../Datasets/Facial Expressions/test/4a.jpg'\\ntarget_folder = './Sample_images'\\n\\ntransform_image(img_path,target_folder)\\nprint('Sample images saved')\""
      ]
     },
     "execution_count": 8,
     "metadata": {},
     "output_type": "execute_result"
    }
   ],
   "source": [
    "#create some sample images\n",
    "\"\"\"img_path = '../Datasets/Facial Expressions/test/4a.jpg'\n",
    "target_folder = './Sample_images'\n",
    "\n",
    "transform_image(img_path,target_folder)\n",
    "print('Sample images saved')\"\"\""
   ]
  },
  {
   "cell_type": "code",
   "execution_count": 7,
   "metadata": {},
   "outputs": [
    {
     "name": "stdout",
     "output_type": "stream",
     "text": [
      "anger 1516\n",
      "contempt 1517\n",
      "disgust 1518\n",
      "fear 1512\n",
      "sadness 1514\n",
      "surprise 1512\n",
      "Completed\n"
     ]
    }
   ],
   "source": [
    "# Apply augmentation to images\n",
    "path = '../Datasets/Facial Expressions/train/'\n",
    "exclude_list = ['neutral','happiness']\n",
    "\n",
    "for folder in os.listdir(path):\n",
    "    if folder not in exclude_list:\n",
    "        image_path = os.path.join(path,folder)\n",
    "        count = len(os.listdir(image_path))\n",
    "        images = os.listdir(image_path)\n",
    "        \n",
    "        while True:\n",
    "            for img in images:\n",
    "                img_path = os.path.join(image_path+'/',img)\n",
    "                if count <= 1510:\n",
    "                    transform_image(img_path,image_path)\n",
    "                    count = len(os.listdir(image_path))\n",
    "            if count > 1500:\n",
    "                break\n",
    "        print(folder,count)     \n",
    "print('Completed')"
   ]
  },
  {
   "cell_type": "markdown",
   "metadata": {},
   "source": [
    "- Data Augmentaion Complete, Now our dataset is quite balanced dataset"
   ]
  },
  {
   "cell_type": "code",
   "execution_count": null,
   "metadata": {},
   "outputs": [],
   "source": []
  }
 ],
 "metadata": {
  "kernelspec": {
   "display_name": "Python 3",
   "language": "python",
   "name": "python3"
  },
  "language_info": {
   "codemirror_mode": {
    "name": "ipython",
    "version": 3
   },
   "file_extension": ".py",
   "mimetype": "text/x-python",
   "name": "python",
   "nbconvert_exporter": "python",
   "pygments_lexer": "ipython3",
   "version": "3.8.5"
  },
  "toc": {
   "base_numbering": 1,
   "nav_menu": {},
   "number_sections": true,
   "sideBar": true,
   "skip_h1_title": false,
   "title_cell": "Table of Contents",
   "title_sidebar": "Contents",
   "toc_cell": false,
   "toc_position": {},
   "toc_section_display": true,
   "toc_window_display": false
  }
 },
 "nbformat": 4,
 "nbformat_minor": 4
}
